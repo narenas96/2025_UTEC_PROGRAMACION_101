{
  "nbformat": 4,
  "nbformat_minor": 0,
  "metadata": {
    "colab": {
      "provenance": [],
      "include_colab_link": true
    },
    "kernelspec": {
      "name": "python3",
      "display_name": "Python 3"
    },
    "language_info": {
      "name": "python"
    }
  },
  "cells": [
    {
      "cell_type": "markdown",
      "metadata": {
        "id": "view-in-github",
        "colab_type": "text"
      },
      "source": [
        "<a href=\"https://colab.research.google.com/github/narenas96/2025_UTEC_PROGRAMACION_101/blob/main/programacion-101/examenes/examen_1/Examen_Programaci%C3%B3n_101_M%C3%B3dulo_1.ipynb\" target=\"_parent\"><img src=\"https://colab.research.google.com/assets/colab-badge.svg\" alt=\"Open In Colab\"/></a>"
      ]
    },
    {
      "cell_type": "markdown",
      "source": [
        "<img src=\"https://posgrado.utec.edu.pe/sites/default/files/2023-08/Testimonial-home-2.jpg\" alt=\"HTML5 Icon\" width=\"900\" height=\"250\" >\n"
      ],
      "metadata": {
        "id": "ub41hbIV6UQ6"
      }
    },
    {
      "cell_type": "markdown",
      "source": [
        "#**Examen Programación 101 – Módulo 1**\n"
      ],
      "metadata": {
        "id": "zpZSxKDI51_7"
      }
    },
    {
      "cell_type": "markdown",
      "source": [
        "**Contexto**\n",
        "\n",
        "Estás colaborando en el diseño de un sistema básico de autenticación y validación de datos para una empresa tecnológica en expansión. El sistema debe realizar verificaciones fundamentales sobre usuarios, contraseñas, códigos de acceso e identificadores, utilizando únicamente estructuras condicionales y operaciones básicas, dado que el prototipo está pensado para funcionar en dispositivos con capacidad de cómputo muy limitada.\n",
        "\n",
        "Cada pregunta del examen representa uno de los desafíos que debes resolver en este sistema: desde validar un código, clasificar niveles de acceso, hasta verificar si una entrada cumple con múltiples criterios simultáneamente."
      ],
      "metadata": {
        "id": "qphDGB6eAe-K"
      }
    },
    {
      "cell_type": "markdown",
      "source": [
        "\n",
        "\n",
        "**Nombre y Apellido:**\n",
        "\n",
        "---"
      ],
      "metadata": {
        "id": "_MYFZY5D97r5"
      }
    },
    {
      "cell_type": "markdown",
      "source": [
        "Duración: 45 minutos\n",
        "\n",
        "**Instrucciones**\n",
        "\n",
        "1. No está permitido el uso de funciones (def), bucles (for, while)\n",
        "\n",
        "2. Puedes utilizar:\n",
        "\n",
        "  * Asignación de variables\n",
        "  * Operadores aritméticos y lógicos\n",
        "  * Condicionales (if, elif, else)\n",
        "  * Funciones input() y print()\n",
        "\n",
        "3. Se evaluará no solo la respuesta correcta, sino también la claridad, buenas prácticas, uso correcto de tipos de datos y estructura lógica.\n",
        "\n",
        "---"
      ],
      "metadata": {
        "id": "VInsS6-u7MUH"
      }
    },
    {
      "cell_type": "markdown",
      "source": [
        "**Pregunta 1: Validación de Usuario**\n"
      ],
      "metadata": {
        "id": "xVGPY6H68IO_"
      }
    },
    {
      "cell_type": "markdown",
      "source": [
        "Escribe un programa que valide un usuario según estas reglas:\n",
        "\n",
        "* El usuario debe tener exactamente 5 caracteres.\n",
        "* El primer carácter debe ser mayúscula.\n",
        "* El último carácter debe ser un número.\n",
        "\n",
        "Imprime \"Usuario válido\" o \"Usuario inválido\" según corresponda."
      ],
      "metadata": {
        "id": "2mSAVboy8Q6m"
      }
    },
    {
      "cell_type": "code",
      "execution_count": 2,
      "metadata": {
        "id": "mOSniL8V5jR4",
        "colab": {
          "base_uri": "https://localhost:8080/"
        },
        "outputId": "39148fa7-ca6d-4a00-a83c-1d1783d0d4df"
      },
      "outputs": [
        {
          "output_type": "stream",
          "name": "stdout",
          "text": [
            "Hola ingresa el nombre de usuario con los requisitos: Nicole96\n",
            "El usuario no es correcto\n"
          ]
        }
      ],
      "source": [
        "# Your code starts here\n",
        "# user_example: usuario = \"A12b4\"\n",
        "\n",
        "#ingresamos nombre de usuario:\n",
        "usuario = input(\"Hola ingresa el nombre de usuario con los requisitos: \")\n",
        "# comparamos si tiene 5 caracteres y usamos el isupper para que devuelva true si es mayuscula lo mismo con el isdigit\n",
        "if len(usuario) == 5 and usuario[0].isupper() and usuario[-1].isdigit():\n",
        "# verificamos el resultado\n",
        "    print(\"El usuario es correcto\")\n",
        "else:\n",
        "    print(\"El usuario no es correcto\")\n",
        "\n",
        "# Your code ends here"
      ]
    },
    {
      "cell_type": "markdown",
      "source": [
        "**Pregunta 2: Nivel de Seguridad Numérico**\n",
        "\n",
        "Pide tres dígitos separados al usuario usando input(). Luego:\n",
        "\n",
        "* Imprime \"ALTO\" si los tres dígitos son diferentes.\n",
        "* Imprime \"MEDIO\" si solo dos son iguales.\n",
        "* Imprime \"BAJO\" si los tres son iguales."
      ],
      "metadata": {
        "id": "ZI1HrCRe8uU6"
      }
    },
    {
      "cell_type": "code",
      "source": [
        "# Your code starts here\n",
        "# Ingresamos variables\n",
        "digito_1 = input(\"Ingrese primer digito: \")\n",
        "digito_2 = input(\"Ingrese segundo digito: \")\n",
        "digito_3 = input(\"Ingrese tercer digito: \")\n",
        "#realizamos las comparaciones si los 3 son diferentes ALTO\n",
        "if digito_1 != digito_2 and digito_2 != digito_3 and digito_1 != digito_3:\n",
        " #imprime alto\n",
        " print(\"ALTO\")\n",
        "# si Los dos primeros son iguales, el tercero es distinto/El primero y el tercero son iguales, el segundo distinto/El segundo y el tercero son iguales, el primero distinto\n",
        "elif (digito_1 == digito_2 and digito_2 != digito_3) or (digito_1 == digito_3 and digito_2 != digito_3) or (digito_2 == digito_3 and digito_1 != digito_3):\n",
        "    print(\"MEDIO\")\n",
        "# sino es bajo\n",
        "else:\n",
        "  print(\"BAJO\")\n",
        "# Your code ends here"
      ],
      "metadata": {
        "id": "hEUnfNCK88lF",
        "colab": {
          "base_uri": "https://localhost:8080/"
        },
        "outputId": "62e591c0-170d-4f47-85e4-b715c02cf66d"
      },
      "execution_count": 8,
      "outputs": [
        {
          "output_type": "stream",
          "name": "stdout",
          "text": [
            "Ingrese primer digito: 3\n",
            "Ingrese segundo digito: 6\n",
            "Ingrese tercer digito: 3\n",
            "MEDIO\n"
          ]
        }
      ]
    },
    {
      "cell_type": "markdown",
      "source": [
        "**Pregunta 3: Código de Acceso**\n",
        "\n",
        "Pide al usuario ingresar un número entero de tres dígitos.\n",
        "Verifica si la suma de sus tres dígitos es exactamente 10:\n",
        "\n",
        "* Si lo es, imprime \"Código válido\".\n",
        "* Si no, imprime \"Código inválido\"."
      ],
      "metadata": {
        "id": "DaAUaft_9DMe"
      }
    },
    {
      "cell_type": "code",
      "source": [
        "# Your code starts here\n",
        "\n",
        "numero = input(\"Ingresa un número entero de tres dígitos: \")# no puedo usar int porque puedo perder caracteres\n",
        "\n",
        "if (numero.startswith('-') and len(numero) == 4 and numero[1:].isdigit()) or (len(numero) == 3 and numero.isdigit()):\n",
        "    num_abs = numero[-3:]  # últimos 3 caracteres (sin signo si hay)\n",
        "    suma = int(num_abs[0]) + int(num_abs[1]) + int(num_abs[2])\n",
        "\n",
        "    if suma == 10:\n",
        "        print(\"Código válido\")\n",
        "    else:\n",
        "        print(\"Código inválido\")\n",
        "else:\n",
        "    print(\"Entrada inválida\")\n",
        "\n",
        "\n",
        "# Your code ends here"
      ],
      "metadata": {
        "id": "Xa15jei89HaU",
        "colab": {
          "base_uri": "https://localhost:8080/"
        },
        "outputId": "b74cb129-e573-4ffd-afca-226413c2a032"
      },
      "execution_count": 12,
      "outputs": [
        {
          "output_type": "stream",
          "name": "stdout",
          "text": [
            "Ingresa un número entero de tres dígitos: 159\n",
            "Código inválido\n"
          ]
        }
      ]
    },
    {
      "cell_type": "markdown",
      "source": [
        "**Pregunta 4: Identificador de carácter**\n",
        "\n",
        "Pide al usuario un solo carácter y determina:\n",
        "\n",
        "* Si es vocal minúscula → \"Vocal minúscula\"\n",
        "* Si es vocal mayúscula → \"Vocal MAYÚSCULA\"\n",
        "* Si es número → \"Número\"\n",
        "* En cualquier otro caso → \"Símbolo especial\""
      ],
      "metadata": {
        "id": "zHCprzaP9fpB"
      }
    },
    {
      "cell_type": "code",
      "source": [
        "# Your code starts here\n",
        "#ingresamos un caracter\n",
        "caracter = input(\"Ingresa un solo carácter: \")\n",
        "#evaluamos\n",
        "if caracter in \"aeiou\":\n",
        "    print(\"Vocal minúscula\")\n",
        "elif caracter in \"AEIOU\":\n",
        "    print(\"Vocal MAYÚSCULA\")\n",
        "elif caracter.isdigit():\n",
        "    print(\"Número\")\n",
        "else:\n",
        "    print(\"Símbolo especial\")\n",
        "\n",
        "\n",
        "# Your code ends here"
      ],
      "metadata": {
        "id": "OvCpLVUT92uZ",
        "colab": {
          "base_uri": "https://localhost:8080/"
        },
        "outputId": "37a0707f-a0cf-4d9e-9a50-5ad10d3ef691"
      },
      "execution_count": 14,
      "outputs": [
        {
          "output_type": "stream",
          "name": "stdout",
          "text": [
            "Ingresa un solo carácter: a\n",
            "Vocal minúscula\n"
          ]
        }
      ]
    },
    {
      "cell_type": "markdown",
      "source": [
        "**Pregunta 5: Verificación cruzada de identidad**\n",
        "\n",
        "Un sistema de validación recibe los siguientes tres datos como entrada:\n",
        "\n",
        "\n",
        "1. Un código de 6 caracteres (ej. \"A1b2C3\")\n",
        "2. Un número de 3 cifras (ej. 528)\n",
        "3. Una letra (ej. \"b\")\n",
        "\n",
        "El programa debe:\n",
        "\n",
        "* Verificar si:\n",
        "\n",
        "  1. El primer carácter del código es una letra mayúscula,\n",
        "  2. El último carácter del código es un número,\n",
        "  3. La suma de los tres dígitos del número es par, y\n",
        "  4. La letra ingresada se encuentra dentro del código sin distinguir mayúsculas/minúsculas.\n",
        "\n",
        "* Si todas las condiciones se cumplen, imprimir: \"Identidad verificada\"\n",
        "\n",
        "* Si alguna no se cumple, imprimir: \"Acceso denegado\""
      ],
      "metadata": {
        "id": "FJyAxh0I-0N8"
      }
    },
    {
      "cell_type": "code",
      "source": [
        "# Your code starts here\n",
        "#ingresa\n",
        "codigo = input(\"Ingresa el código de 6 caracteres: \")\n",
        "numero = input(\"Ingresa un número de 3 cifras: \")\n",
        "letra = input(\"Ingresa una letra: \")\n",
        "\n",
        "if len(codigo) == 6 and len(numero) == 3 and len(letra) == 1:\n",
        "    condicion1 = codigo[0].isupper()\n",
        "    condicion2 = codigo[-1].isdigit()\n",
        "    suma_digitos = int(numero[0]) + int(numero[1]) + int(numero[2])\n",
        "    condicion3 = suma_digitos % 2 == 0\n",
        "    condicion4 = letra.lower() in codigo.lower()\n",
        "\n",
        "    if condicion1 and condicion2 and condicion3 and condicion4:\n",
        "        print(\"Identidad verificada\")\n",
        "    else:\n",
        "        print(\"Acceso denegado\")\n",
        "else:\n",
        "    print(\"Acceso denegado\")\n",
        "\n",
        "\n",
        "# Your code ends here"
      ],
      "metadata": {
        "id": "Z16sSPRc_TDH",
        "colab": {
          "base_uri": "https://localhost:8080/"
        },
        "outputId": "f58f02d9-4e79-4698-96bd-f7d31a912aef"
      },
      "execution_count": 15,
      "outputs": [
        {
          "output_type": "stream",
          "name": "stdout",
          "text": [
            "Ingresa el código de 6 caracteres: Constanc1a!\n",
            "Ingresa un número de 3 cifras: 234\n",
            "Ingresa una letra: a\n",
            "Acceso denegado\n"
          ]
        }
      ]
    },
    {
      "cell_type": "markdown",
      "source": [
        "---\n",
        "\n",
        "### Gracias por completar este examen!\n",
        "\n",
        "---\n"
      ],
      "metadata": {
        "id": "vWNdqa91-NiX"
      }
    }
  ]
}