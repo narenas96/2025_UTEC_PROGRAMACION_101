{
  "nbformat": 4,
  "nbformat_minor": 0,
  "metadata": {
    "colab": {
      "provenance": [],
      "include_colab_link": true
    },
    "kernelspec": {
      "name": "python3",
      "display_name": "Python 3"
    },
    "language_info": {
      "name": "python"
    }
  },
  "cells": [
    {
      "cell_type": "markdown",
      "metadata": {
        "id": "view-in-github",
        "colab_type": "text"
      },
      "source": [
        "<a href=\"https://colab.research.google.com/github/narenas96/2025_UTEC_PROGRAMACION_101/blob/main/programacion-101/examenes/examen_3/Examen_Programaci%C3%B3n_101_M%C3%B3dulo_3.ipynb\" target=\"_parent\"><img src=\"https://colab.research.google.com/assets/colab-badge.svg\" alt=\"Open In Colab\"/></a>"
      ]
    },
    {
      "cell_type": "markdown",
      "source": [
        "<img src=\"https://posgrado.utec.edu.pe/sites/default/files/2023-08/Testimonial-home-2.jpg\" alt=\"HTML5 Icon\" width=\"900\" height=\"250\" >"
      ],
      "metadata": {
        "id": "F0pagrVwedlT"
      }
    },
    {
      "cell_type": "markdown",
      "source": [
        "#**Examen Programación 101 – Módulo 3** Nicole Arenas Lazo"
      ],
      "metadata": {
        "id": "n0QIu7WQMANP"
      }
    },
    {
      "cell_type": "markdown",
      "source": [
        "**Contexto:**\n",
        "\n",
        "Estás colaborando con un equipo de analistas que trabaja en el diseño de herramientas básicas para preparar, limpiar y analizar datos antes de que sean utilizados por científicos de datos. Estas herramientas deben ejecutarse en entornos controlados, sin acceso a librerías externas y con requisitos mínimos de procesamiento.\n",
        "\n",
        "Cada ejercicio del examen representa uno de los desafíos que debes resolver como parte del equipo de soporte analítico: desde calcular estadísticas básicas, limpiar entradas de texto, hasta realizar predicciones sencillas con modelos lineales simulados."
      ],
      "metadata": {
        "id": "miMQKZv6MHrC"
      }
    },
    {
      "cell_type": "markdown",
      "source": [
        "\n",
        "\n",
        "**Nombre y Apellido:**\n",
        "\n",
        "---"
      ],
      "metadata": {
        "id": "ivo0N7RXM0VM"
      }
    },
    {
      "cell_type": "markdown",
      "source": [
        "Duración: 45 minutos\n"
      ],
      "metadata": {
        "id": "5UN_MQy1M76N"
      }
    },
    {
      "cell_type": "markdown",
      "source": [
        "**Instrucciones**\n",
        "\n",
        "Puedes utilizar:\n",
        "\n",
        "- Definición de funciones (def)\n",
        "\n",
        "- Creación de clases (class)\n",
        "\n",
        "- Listas, strings, diccionarios, operadores, condicionales, bucles\n",
        "\n",
        "- Funciones integradas como sum(), len(), max(), min(), sorted()\n",
        "\n",
        "- No uses pandas, numpy, matplotlib, ni lectura de archivos.\n",
        "\n",
        "Se evaluará no solo la respuesta correcta, sino también la claridad del código, las buenas prácticas (nombres descriptivos, comentarios si es necesario), el uso adecuado de estructuras de datos y la lógica general."
      ],
      "metadata": {
        "id": "JXUtBQpVM_Da"
      }
    },
    {
      "cell_type": "markdown",
      "source": [
        "**Pregunta 1 – Estadística simple**"
      ],
      "metadata": {
        "id": "EpERA8PAN-wz"
      }
    },
    {
      "cell_type": "markdown",
      "source": [
        "Dado el siguiente conjunto de datos:\n",
        "```\n",
        "valores = [12, 17, 15, 21, 17, 18, 15, 19, 21, 17]\n",
        "```\n",
        "Escribe una función resumen_estadistico(lista) que retorne un diccionario con las siguientes claves:\n",
        "\n",
        "- \"promedio\": promedio de los valores\n",
        "\n",
        "- \"min\": valor mínimo\n",
        "\n",
        "- \"max\": valor máximo\n",
        "\n",
        "- \"moda\": valor que más veces se repite en la lista"
      ],
      "metadata": {
        "id": "guv8XWUSOBdx"
      }
    },
    {
      "cell_type": "code",
      "execution_count": 39,
      "metadata": {
        "id": "_R4-sqZ1LhZL",
        "colab": {
          "base_uri": "https://localhost:8080/"
        },
        "outputId": "8b310f51-1d14-4ac1-bb75-65f5aa5dd1d3"
      },
      "outputs": [
        {
          "output_type": "stream",
          "name": "stdout",
          "text": [
            "Promedio: 17.2\n",
            "Mínimo: 12\n",
            "Máximo: 21\n",
            "Moda: 17\n"
          ]
        }
      ],
      "source": [
        "# Your code starts here\n",
        "\n",
        "# Datos\n",
        "valores = [12, 17, 15, 21, 17, 18, 15, 19, 21, 17]\n",
        "\n",
        "# Creamos la función\n",
        "def resumen_estadistico(lista):\n",
        "\n",
        "    # Para calcular promedio\n",
        "    suma = 0\n",
        "    for valor in lista:\n",
        "        suma += valor\n",
        "    promedio = suma / len(lista)\n",
        "\n",
        "    # Calculamos mínimo y máximo\n",
        "    minimo = lista[0]\n",
        "    maximo = lista[0]\n",
        "    for valor in lista:\n",
        "        if valor < minimo:\n",
        "            minimo = valor\n",
        "        if valor > maximo:\n",
        "            maximo = valor\n",
        "\n",
        "    # Calcular moda\n",
        "    frecuencias = {}\n",
        "    for valor in lista:\n",
        "        if valor in frecuencias:\n",
        "            frecuencias[valor] += 1\n",
        "        else:\n",
        "            frecuencias[valor] = 1\n",
        "\n",
        "    moda = lista[0]\n",
        "    max_frecuencia = frecuencias[moda]\n",
        "    for valor, frecuencia in frecuencias.items():\n",
        "        if frecuencia > max_frecuencia:\n",
        "            moda = valor\n",
        "            max_frecuencia = frecuencia\n",
        "\n",
        "    return {\n",
        "        \"promedio\": promedio,\n",
        "        \"min\": minimo,\n",
        "        \"max\": maximo,\n",
        "        \"moda\": moda\n",
        "    }\n",
        "\n",
        "# Obtener resultados\n",
        "resultado = resumen_estadistico(valores)\n",
        "\n",
        "# Imprimir en líneas separadas\n",
        "print(\"Promedio:\", resultado[\"promedio\"])\n",
        "print(\"Mínimo:\", resultado[\"min\"])\n",
        "print(\"Máximo:\", resultado[\"max\"])\n",
        "print(\"Moda:\", resultado[\"moda\"])\n",
        "\n",
        "# Your code ends here\n"
      ]
    },
    {
      "cell_type": "markdown",
      "source": [
        "**Pregunta 2 – Limpieza de texto**"
      ],
      "metadata": {
        "id": "3rV2t5cXOOve"
      }
    },
    {
      "cell_type": "markdown",
      "source": [
        "Tienes la siguiente lista con nombres ingresados de forma inconsistente:\n",
        "```\n",
        "nombres = [\" ana \", \"LUIS\", \"cAmila \", \"JORGE\", \" sofiA\"]\n",
        "```\n",
        "Crea una función normalizar_nombres(lista) que:\n",
        "\n",
        "- Elimine espacios adicionales al inicio o final de cada nombre\n",
        "\n",
        "- Convierta todos los nombres a formato título (por ejemplo: \"Camila\")\n",
        "\n",
        "Devuelve una nueva lista con los nombres normalizados."
      ],
      "metadata": {
        "id": "TLFj-jI-OYwu"
      }
    },
    {
      "cell_type": "code",
      "source": [
        "# Your code starts here\n",
        "#CREAMOS LA FUNCION\n",
        "def nombres_correctos(lista):\n",
        "    nombres_correctos = []\n",
        "    for nombre in lista:\n",
        "       #eliminamos espacios al inicio y al final\n",
        "        nombre = nombre.strip()\n",
        "      # Ponemos  a minúsculas\n",
        "        nombre = nombre.lower()\n",
        "      # usamos la primera letra en mayúscula\n",
        "        nombre = nombre.capitalize()\n",
        "        nombres_correctos.append(nombre)\n",
        "    return nombres_correctos\n",
        "\n",
        "# Lista de prueba\n",
        "nombres = [\" ana \", \"LUIS\", \"cAmila \", \"JORGE\", \" sofiA\"]\n",
        "print(\"los nombres correctos son: \" , nombres_correctos(nombres))  # ['Ana', 'Luis', 'Camila', 'Jorge', 'Sofia']\n",
        "# Your code ends here\n"
      ],
      "metadata": {
        "id": "Yeuwf3fWOftV",
        "colab": {
          "base_uri": "https://localhost:8080/"
        },
        "outputId": "2aa93857-15fb-4f90-d912-daf1d4181c09"
      },
      "execution_count": 32,
      "outputs": [
        {
          "output_type": "stream",
          "name": "stdout",
          "text": [
            "los nombres correctos son:  ['Ana', 'Luis', 'Camila', 'Jorge', 'Sofia']\n"
          ]
        }
      ]
    },
    {
      "cell_type": "markdown",
      "source": [
        "**Pregunta 3 – Clasificador por edad**"
      ],
      "metadata": {
        "id": "qzum0ADEOk-a"
      }
    },
    {
      "cell_type": "markdown",
      "source": [
        "Crea una clase ClasificadorEdad con un atributo edad.\n",
        "La clase debe tener un método:\n",
        "\n",
        "clasificar() -> str\n",
        "Que devuelva según la edad:\n",
        "\n",
        "- \"Niño\" si es menor de 13\n",
        "\n",
        "- \"Adolescente\" si tiene entre 13 y 17 años\n",
        "\n",
        "- \"Adulto\" si tiene entre 18 y 59 años\n",
        "\n",
        "- \"Adulto mayor\" si tiene 60 o más"
      ],
      "metadata": {
        "id": "xS7revZCOoZ1"
      }
    },
    {
      "cell_type": "code",
      "source": [
        "# Your code starts here\n",
        "\n",
        "#Ingrese la edad del usuario\n",
        "edad_usuario = int(input(\"Ingrese su edad: \"))\n",
        "\n",
        "#creamos la clase\n",
        "class ClasificadorEdad:\n",
        "\n",
        "  #creamos la funcion\n",
        "    def __init__(self, edad):\n",
        "        self.edad = edad\n",
        "\n",
        "    def clasificar(self):\n",
        "        if self.edad < 13:\n",
        "            return \" Es un niño\"\n",
        "        elif self.edad <= 17:\n",
        "            return \"Es un adolescente\"\n",
        "        elif self.edad <= 59:\n",
        "            return \"Es un adulto\"\n",
        "        else:\n",
        "            return \"Es un adulto mayor\"\n",
        "\n",
        "persona = ClasificadorEdad(edad_usuario)\n",
        "print(persona.clasificar())  # 'Adulto mayor'\n",
        "\n",
        "\n",
        "# Your code ends here"
      ],
      "metadata": {
        "id": "TEedziL-Oosu",
        "colab": {
          "base_uri": "https://localhost:8080/"
        },
        "outputId": "c4b90afb-9e3f-4cb5-e662-91c305594d06"
      },
      "execution_count": 18,
      "outputs": [
        {
          "output_type": "stream",
          "name": "stdout",
          "text": [
            "Ingrese su edad: 60\n",
            "Es un adulto mayor\n"
          ]
        }
      ]
    },
    {
      "cell_type": "markdown",
      "source": [
        "**Pregunta 4 – Palabras clave en encuestas**"
      ],
      "metadata": {
        "id": "O7K1bCleO3du"
      }
    },
    {
      "cell_type": "markdown",
      "source": [
        "Tienes una lista con respuestas abiertas de una encuesta:\n",
        "```\n",
        "respuestas = [\n",
        "    \"Me gusta la visualización de datos\",\n",
        "    \"La estadística es clave\",\n",
        "    \"Aprender programación mejora la productividad\",\n",
        "    \"Los gráficos me ayudan a entender\"]\n",
        "```\n",
        "Crea una función contar_palabras_clave(respuestas: list, palabra: str) que:\n",
        "\n",
        "- Retorne cuántas frases contienen la palabra dada, sin importar mayúsculas o minúsculas.\n",
        "\n",
        "Ejemplo:\n",
        "contar_palabras_clave(respuestas, \"datos\") → 1\n",
        "\n"
      ],
      "metadata": {
        "id": "Y7kadRyfPBG_"
      }
    },
    {
      "cell_type": "code",
      "source": [
        "# Your code starts here\n",
        "#creamos la funcion\n",
        "def contar_palabras_clave(respuestas, palabra):\n",
        "    palabra = palabra.lower()\n",
        "    contador = 0\n",
        "    for frase in respuestas:\n",
        "        palabras = frase.lower().split()\n",
        "        if palabra in palabras:\n",
        "            contador += 1\n",
        "    return contador\n",
        "\n",
        "# lista de respuestas definidas\n",
        "respuestas = [\n",
        "    \"Me gusta la visualización de datos\",\n",
        "    \"La estadística es clave\",\n",
        "    \"Aprender programación mejora la productividad\",\n",
        "    \"Los gráficos me ayudan a entender\"\n",
        "]\n",
        "\n",
        "# Ingresamos la palabra que queremos buscar por input\n",
        "palabra_buscar = input(\"Ingrese la palabra clave a buscar: \")\n",
        "\n",
        "resultado = contar_palabras_clave(respuestas, palabra_buscar)\n",
        "print(f\"La palabra '{palabra_buscar}' aparece en {resultado} frase(s).\")\n",
        "\n",
        "# Your code ends here\n"
      ],
      "metadata": {
        "id": "4WP3pEgvOuMd",
        "colab": {
          "base_uri": "https://localhost:8080/"
        },
        "outputId": "55424fbb-cdb5-4748-e1c3-95d5c2b8f5e1"
      },
      "execution_count": 26,
      "outputs": [
        {
          "output_type": "stream",
          "name": "stdout",
          "text": [
            "Ingrese la palabra clave a buscar: la\n",
            "La palabra 'la' aparece en 3 frase(s).\n"
          ]
        }
      ]
    },
    {
      "cell_type": "markdown",
      "source": [
        "**Pregunta 5 – Validación de códigos de experimento**"
      ],
      "metadata": {
        "id": "MdencFSGPmo1"
      }
    },
    {
      "cell_type": "markdown",
      "source": [
        "Tienes una lista con códigos de experimento ingresados por diferentes usuarios:\n",
        "\n",
        "```\n",
        "codigos = [\"EXP2023A\", \"EXP_23\", \"EXPERIMENTO_2023\", \"exp2023b\"]\n",
        "```\n",
        "\n",
        "Crea una función validar_codigos(lista) que retorne una nueva lista con los códigos válidos, donde:\n",
        "\n",
        "- Empiecen por \"EXP\" (en mayúsculas)\n",
        "\n",
        "- Tengan exactamente 8 caracteres"
      ],
      "metadata": {
        "id": "KBMve8sQPp8J"
      }
    },
    {
      "cell_type": "code",
      "source": [
        "# Your code starts here\n",
        "\n",
        "codigos = [\"EXP2023A\", \"EXP_23\", \"EXPERIMENTO_2023\", \"exp2023b\"]\n",
        "\n",
        "#funcion validacion de condigos\n",
        "def validacion_de_codigos(lista):\n",
        "    codigos_validos = []\n",
        "    for codigo in lista:\n",
        "        if len(codigo) == 8 and codigo.startswith(\"EXP\"):\n",
        "            codigos_validos.append(codigo)\n",
        "    return codigos_validos\n",
        "print(\"El código correcto es:\", validacion_de_codigos(codigos))\n",
        "# Your code ends here"
      ],
      "metadata": {
        "id": "SUaTp_yjO24X",
        "colab": {
          "base_uri": "https://localhost:8080/"
        },
        "outputId": "bb5221b2-b13d-44cc-b9fd-6f35ff486e95"
      },
      "execution_count": 31,
      "outputs": [
        {
          "output_type": "stream",
          "name": "stdout",
          "text": [
            "El código correcto es: ['EXP2023A']\n"
          ]
        }
      ]
    },
    {
      "cell_type": "markdown",
      "source": [
        "**Pregunta 6 – Modelo lineal simple**"
      ],
      "metadata": {
        "id": "U3NjngoxPyv9"
      }
    },
    {
      "cell_type": "markdown",
      "source": [
        "Crea una clase ModeloLineal que simule un modelo de regresión con fórmula:\n",
        "```\n",
        "y = m * x + b\n",
        "```\n",
        "\n",
        "La clase debe tener:\n",
        "\n",
        "Atributos: m (pendiente), b (intercepto)\n",
        "\n",
        "\n",
        "Método predecir(x) que:\n",
        "\n",
        "- Si x es un número, devuelve la predicción correspondiente\n",
        "\n",
        "- Si x es una lista de números, devuelve una lista de predicciones\n",
        "\n",
        "\n",
        "Ejemplo:\n",
        "```\n",
        "modelo = ModeloLineal(2, 3)\n",
        "modelo.predecir([1, 2, 3])  #debe retornar [5, 7, 9]\n",
        "```"
      ],
      "metadata": {
        "id": "_N3vpCZkP1sr"
      }
    },
    {
      "cell_type": "code",
      "source": [
        "# Your code starts here\n",
        "\n",
        "# creamos la clase que representa  y = m * x + b\n",
        "class ModeloLineal:\n",
        "    def __init__(self, m, b):\n",
        "      # pendiente\n",
        "        self.m = m\n",
        "      # intercepto\n",
        "        self.b = b\n",
        "\n",
        "    def predecir(self, x):\n",
        "        # Si x es una lista, devolvemos una lista de predicciones\n",
        "        if isinstance(x, list):\n",
        "            return [self.m * valor + self.b for valor in x]\n",
        "        else:\n",
        "            # Si es un solo número, devolvemos solo un resultado\n",
        "            return self.m * x + self.b\n",
        "\n",
        "# Solicitamos al usuario que ingrese m, b y valores de x\n",
        "m = float(input(\"Ingrese la pendiente m: \"))\n",
        "b = float(input(\"Ingrese el intercepto b: \"))\n",
        "\n",
        "# Instanciar el modelo\n",
        "modelo = ModeloLineal(m, b)\n",
        "\n",
        "# Pedimos al usuario una lista de valores de x separados por comas\n",
        "entrada_x = input(\"Ingrese los valores de x separados por coma (ejemplo: 1,2,3): \")\n",
        "# Convertimos la entrada en una lista de floats\n",
        "lista_x = [float(valor.strip()) for valor in entrada_x.split(\",\")]\n",
        "\n",
        "# Obtener las predicciones\n",
        "predicciones = modelo.predecir(lista_x)\n",
        "\n",
        "# Mostrar resultados con comentarios\n",
        "print(\"Tu Pendiente (m) es :\", m)\n",
        "print(\"El Intercepto (b) es :\", b)\n",
        "print(\"Los Valores de entrada (x) son :\", lista_x)\n",
        "print(\"Las Predicciones (y = m*x + b): serían\", predicciones)\n",
        "\n",
        "# Your code ends here\n"
      ],
      "metadata": {
        "id": "18nXnIMEQhKS",
        "colab": {
          "base_uri": "https://localhost:8080/"
        },
        "outputId": "722584c0-2852-446c-e8b4-3f31da69b39c"
      },
      "execution_count": 38,
      "outputs": [
        {
          "output_type": "stream",
          "name": "stdout",
          "text": [
            "Ingrese la pendiente m: 2\n",
            "Ingrese el intercepto b: 3\n",
            "Ingrese los valores de x separados por coma (ejemplo: 1,2,3): 1,2,3\n",
            "Tu Pendiente (m) es : 2.0\n",
            "El Intercepto (b) es : 3.0\n",
            "Los Valores de entrada (x) son : [1.0, 2.0, 3.0]\n",
            "Las Predicciones (y = m*x + b): serían [5.0, 7.0, 9.0]\n"
          ]
        }
      ]
    },
    {
      "cell_type": "markdown",
      "source": [
        "---\n",
        "\n",
        "### Gracias por completar este examen!\n",
        "\n",
        "---\n"
      ],
      "metadata": {
        "id": "LtljlM9cQkiT"
      }
    }
  ]
}